{
 "cells": [
  {
   "cell_type": "code",
   "execution_count": 2,
   "metadata": {},
   "outputs": [
    {
     "ename": "ModuleNotFoundError",
     "evalue": "No module named 'pandas'",
     "output_type": "error",
     "traceback": [
      "\u001b[0;31m---------------------------------------------------------------------------\u001b[0m",
      "\u001b[0;31mModuleNotFoundError\u001b[0m                       Traceback (most recent call last)",
      "Cell \u001b[0;32mIn[2], line 1\u001b[0m\n\u001b[0;32m----> 1\u001b[0m \u001b[38;5;28;01mimport\u001b[39;00m \u001b[38;5;21;01mpandas\u001b[39;00m \u001b[38;5;28;01mas\u001b[39;00m \u001b[38;5;21;01mpd\u001b[39;00m\n\u001b[1;32m      2\u001b[0m \u001b[38;5;28;01mimport\u001b[39;00m \u001b[38;5;21;01mnumpy\u001b[39;00m \u001b[38;5;28;01mas\u001b[39;00m \u001b[38;5;21;01mnp\u001b[39;00m\n\u001b[1;32m      3\u001b[0m \u001b[38;5;28;01mimport\u001b[39;00m \u001b[38;5;21;01mmatplotlib\u001b[39;00m\u001b[38;5;21;01m.\u001b[39;00m\u001b[38;5;21;01mpyplot\u001b[39;00m \u001b[38;5;28;01mas\u001b[39;00m \u001b[38;5;21;01mplt\u001b[39;00m\n",
      "\u001b[0;31mModuleNotFoundError\u001b[0m: No module named 'pandas'"
     ]
    }
   ],
   "source": [
    "import pandas as pd\n",
    "import numpy as np\n",
    "import matplotlib.pyplot as plt\n",
    "import seaborn as sns\n",
    "\n",
    "# Load the data\n",
    "df = pd.read_csv('~/data_analyst_project/data.csv')\n",
    "\n",
    "# Print the first 5 rows of the dataframe\n",
    "print(df.head())\n",
    "\n",
    "# Print the number of rows and columns in the dataframe\n",
    "print(df.shape)\n",
    "\n",
    "# Print the number of missing values in each column\n",
    "print(df.isnull().sum())\n",
    "\n",
    "# Drop the rows with missing values\n",
    "df = df.dropna()\n",
    "\n",
    "# Print the number of missing values in each column\n",
    "\n",
    "print(df.isnull().sum())\n",
    "\n",
    "# Print the summary statistics of the dataframe\n",
    "print(df.describe())\n",
    "\n"
   ]
  },
  {
   "cell_type": "code",
   "execution_count": null,
   "metadata": {
    "vscode": {
     "languageId": "ruby"
    }
   },
   "outputs": [
    {
     "name": "stdout",
     "output_type": "stream",
     "text": [
      "                                 Bank Name           City State   CERT  \\\n",
      "0    Republic First Bank dba Republic Bank   Philadelphia    PA  27332   \n",
      "1                            Citizens Bank       Sac City    IA   8758   \n",
      "2                 Heartland Tri-State Bank        Elkhart    KS  25851   \n",
      "3                      First Republic Bank  San Francisco    CA  59017   \n",
      "4                           Signature Bank       New York    NY  57053   \n",
      "..                                     ...            ...   ...    ...   \n",
      "564                     Superior Bank, FSB       Hinsdale    IL  32646   \n",
      "565                    Malta National Bank          Malta    OH   6629   \n",
      "566        First Alliance Bank & Trust Co.     Manchester    NH  34264   \n",
      "567      National State Bank of Metropolis     Metropolis    IL   3815   \n",
      "568                       Bank of Honolulu       Honolulu    HI  21029   \n",
      "\n",
      "                   Acquiring Institution Closing Date   Fund  \n",
      "0      Fulton Bank, National Association    26-Apr-24  10546  \n",
      "1              Iowa Trust & Savings Bank     3-Nov-23  10545  \n",
      "2                 Dream First Bank, N.A.    28-Jul-23  10544  \n",
      "3              JPMorgan Chase Bank, N.A.     1-May-23  10543  \n",
      "4                    Flagstar Bank, N.A.    12-Mar-23  10540  \n",
      "..                                   ...          ...    ...  \n",
      "564                Superior Federal, FSB    27-Jul-01   6004  \n",
      "565                    North Valley Bank     3-May-01   4648  \n",
      "566  Southern New Hampshire Bank & Trust     2-Feb-01   4647  \n",
      "567              Banterra Bank of Marion    14-Dec-00   4646  \n",
      "568                   Bank of the Orient    13-Oct-00   4645  \n",
      "\n",
      "[569 rows x 7 columns]\n"
     ]
    }
   ],
   "source": [
    "# Renaming columns in a DataFrame.\n",
    "\n",
    "df = df.rename(columns={'Bank Name�' : \"Bank Name\", 'City�' : 'City', 'State�' : 'State', 'Cert�' : 'CERT', 'Acquiring Institution�' : 'Acquiring Institution', 'Closing Date�' : 'Closing Date', 'Fund�' : 'Funds'})\n",
    "print(df)"
   ]
  },
  {
   "cell_type": "code",
   "execution_count": null,
   "metadata": {
    "vscode": {
     "languageId": "ruby"
    }
   },
   "outputs": [
    {
     "name": "stdout",
     "output_type": "stream",
     "text": [
      "<class 'pandas.core.frame.DataFrame'>\n",
      "RangeIndex: 569 entries, 0 to 568\n",
      "Data columns (total 7 columns):\n",
      " #   Column                 Non-Null Count  Dtype         \n",
      "---  ------                 --------------  -----         \n",
      " 0   Bank Name              569 non-null    object        \n",
      " 1   City                   569 non-null    object        \n",
      " 2   State                  569 non-null    object        \n",
      " 3   CERT                   569 non-null    int64         \n",
      " 4   Acquiring Institution  569 non-null    object        \n",
      " 5   Closing Date           569 non-null    datetime64[ns]\n",
      " 6   Fund                   569 non-null    int64         \n",
      "dtypes: datetime64[ns](1), int64(2), object(4)\n",
      "memory usage: 31.2+ KB\n"
     ]
    },
    {
     "data": {
      "text/html": [
       "<div>\n",
       "<style scoped>\n",
       "    .dataframe tbody tr th:only-of-type {\n",
       "        vertical-align: middle;\n",
       "    }\n",
       "\n",
       "    .dataframe tbody tr th {\n",
       "        vertical-align: top;\n",
       "    }\n",
       "\n",
       "    .dataframe thead th {\n",
       "        text-align: right;\n",
       "    }\n",
       "</style>\n",
       "<table border=\"1\" class=\"dataframe\">\n",
       "  <thead>\n",
       "    <tr style=\"text-align: right;\">\n",
       "      <th></th>\n",
       "      <th>Bank Name</th>\n",
       "      <th>City</th>\n",
       "      <th>State</th>\n",
       "      <th>CERT</th>\n",
       "      <th>Acquiring Institution</th>\n",
       "      <th>Closing Date</th>\n",
       "      <th>Fund</th>\n",
       "    </tr>\n",
       "  </thead>\n",
       "  <tbody>\n",
       "    <tr>\n",
       "      <th>0</th>\n",
       "      <td>Republic First Bank dba Republic Bank</td>\n",
       "      <td>Philadelphia</td>\n",
       "      <td>PA</td>\n",
       "      <td>27332</td>\n",
       "      <td>Fulton Bank, National Association</td>\n",
       "      <td>2024-04-26</td>\n",
       "      <td>10546</td>\n",
       "    </tr>\n",
       "    <tr>\n",
       "      <th>1</th>\n",
       "      <td>Citizens Bank</td>\n",
       "      <td>Sac City</td>\n",
       "      <td>IA</td>\n",
       "      <td>8758</td>\n",
       "      <td>Iowa Trust &amp; Savings Bank</td>\n",
       "      <td>2023-11-03</td>\n",
       "      <td>10545</td>\n",
       "    </tr>\n",
       "    <tr>\n",
       "      <th>2</th>\n",
       "      <td>Heartland Tri-State Bank</td>\n",
       "      <td>Elkhart</td>\n",
       "      <td>KS</td>\n",
       "      <td>25851</td>\n",
       "      <td>Dream First Bank, N.A.</td>\n",
       "      <td>2023-07-28</td>\n",
       "      <td>10544</td>\n",
       "    </tr>\n",
       "    <tr>\n",
       "      <th>3</th>\n",
       "      <td>First Republic Bank</td>\n",
       "      <td>San Francisco</td>\n",
       "      <td>CA</td>\n",
       "      <td>59017</td>\n",
       "      <td>JPMorgan Chase Bank, N.A.</td>\n",
       "      <td>2023-05-01</td>\n",
       "      <td>10543</td>\n",
       "    </tr>\n",
       "    <tr>\n",
       "      <th>4</th>\n",
       "      <td>Signature Bank</td>\n",
       "      <td>New York</td>\n",
       "      <td>NY</td>\n",
       "      <td>57053</td>\n",
       "      <td>Flagstar Bank, N.A.</td>\n",
       "      <td>2023-03-12</td>\n",
       "      <td>10540</td>\n",
       "    </tr>\n",
       "    <tr>\n",
       "      <th>...</th>\n",
       "      <td>...</td>\n",
       "      <td>...</td>\n",
       "      <td>...</td>\n",
       "      <td>...</td>\n",
       "      <td>...</td>\n",
       "      <td>...</td>\n",
       "      <td>...</td>\n",
       "    </tr>\n",
       "    <tr>\n",
       "      <th>564</th>\n",
       "      <td>Superior Bank, FSB</td>\n",
       "      <td>Hinsdale</td>\n",
       "      <td>IL</td>\n",
       "      <td>32646</td>\n",
       "      <td>Superior Federal, FSB</td>\n",
       "      <td>2001-07-27</td>\n",
       "      <td>6004</td>\n",
       "    </tr>\n",
       "    <tr>\n",
       "      <th>565</th>\n",
       "      <td>Malta National Bank</td>\n",
       "      <td>Malta</td>\n",
       "      <td>OH</td>\n",
       "      <td>6629</td>\n",
       "      <td>North Valley Bank</td>\n",
       "      <td>2001-05-03</td>\n",
       "      <td>4648</td>\n",
       "    </tr>\n",
       "    <tr>\n",
       "      <th>566</th>\n",
       "      <td>First Alliance Bank &amp; Trust Co.</td>\n",
       "      <td>Manchester</td>\n",
       "      <td>NH</td>\n",
       "      <td>34264</td>\n",
       "      <td>Southern New Hampshire Bank &amp; Trust</td>\n",
       "      <td>2001-02-02</td>\n",
       "      <td>4647</td>\n",
       "    </tr>\n",
       "    <tr>\n",
       "      <th>567</th>\n",
       "      <td>National State Bank of Metropolis</td>\n",
       "      <td>Metropolis</td>\n",
       "      <td>IL</td>\n",
       "      <td>3815</td>\n",
       "      <td>Banterra Bank of Marion</td>\n",
       "      <td>2000-12-14</td>\n",
       "      <td>4646</td>\n",
       "    </tr>\n",
       "    <tr>\n",
       "      <th>568</th>\n",
       "      <td>Bank of Honolulu</td>\n",
       "      <td>Honolulu</td>\n",
       "      <td>HI</td>\n",
       "      <td>21029</td>\n",
       "      <td>Bank of the Orient</td>\n",
       "      <td>2000-10-13</td>\n",
       "      <td>4645</td>\n",
       "    </tr>\n",
       "  </tbody>\n",
       "</table>\n",
       "<p>569 rows × 7 columns</p>\n",
       "</div>"
      ],
      "text/plain": [
       "                                 Bank Name           City State   CERT  \\\n",
       "0    Republic First Bank dba Republic Bank   Philadelphia    PA  27332   \n",
       "1                            Citizens Bank       Sac City    IA   8758   \n",
       "2                 Heartland Tri-State Bank        Elkhart    KS  25851   \n",
       "3                      First Republic Bank  San Francisco    CA  59017   \n",
       "4                           Signature Bank       New York    NY  57053   \n",
       "..                                     ...            ...   ...    ...   \n",
       "564                     Superior Bank, FSB       Hinsdale    IL  32646   \n",
       "565                    Malta National Bank          Malta    OH   6629   \n",
       "566        First Alliance Bank & Trust Co.     Manchester    NH  34264   \n",
       "567      National State Bank of Metropolis     Metropolis    IL   3815   \n",
       "568                       Bank of Honolulu       Honolulu    HI  21029   \n",
       "\n",
       "                   Acquiring Institution Closing Date   Fund  \n",
       "0      Fulton Bank, National Association   2024-04-26  10546  \n",
       "1              Iowa Trust & Savings Bank   2023-11-03  10545  \n",
       "2                 Dream First Bank, N.A.   2023-07-28  10544  \n",
       "3              JPMorgan Chase Bank, N.A.   2023-05-01  10543  \n",
       "4                    Flagstar Bank, N.A.   2023-03-12  10540  \n",
       "..                                   ...          ...    ...  \n",
       "564                Superior Federal, FSB   2001-07-27   6004  \n",
       "565                    North Valley Bank   2001-05-03   4648  \n",
       "566  Southern New Hampshire Bank & Trust   2001-02-02   4647  \n",
       "567              Banterra Bank of Marion   2000-12-14   4646  \n",
       "568                   Bank of the Orient   2000-10-13   4645  \n",
       "\n",
       "[569 rows x 7 columns]"
      ]
     },
     "execution_count": 26,
     "metadata": {},
     "output_type": "execute_result"
    }
   ],
   "source": [
    "df.describe()\n",
    "\n",
    "df['Closing Date'] = pd.to_datetime(df['Closing Date'])\n",
    "\n",
    "df.info()\n",
    "df\n"
   ]
  },
  {
   "cell_type": "code",
   "execution_count": null,
   "metadata": {
    "vscode": {
     "languageId": "ruby"
    }
   },
   "outputs": [
    {
     "data": {
      "text/plain": [
       "State\n",
       "GA    93\n",
       "FL    76\n",
       "IL    69\n",
       "CA    43\n",
       "MN    23\n",
       "dtype: int64"
      ]
     },
     "execution_count": 28,
     "metadata": {},
     "output_type": "execute_result"
    }
   ],
   "source": [
    "df.groupby(by='State').size().sort_values(ascending=False).head(5)"
   ]
  },
  {
   "cell_type": "code",
   "execution_count": null,
   "metadata": {},
   "outputs": [
    {
     "data": {
      "text/plain": [
       "Year\n",
       "2010    157\n",
       "2009    140\n",
       "2011     92\n",
       "2012     51\n",
       "2008     25\n",
       "dtype: int64"
      ]
     },
     "execution_count": 31,
     "metadata": {},
     "output_type": "execute_result"
    }
   ],
   "source": [
    "import pandas as pd\n",
    "\n",
    "# Assuming your DataFrame is named 'df' and the column containing the Date variables is named 'Date'\n",
    "df['Year'] = df['Closing Date'].dt.year\n",
    "df.head()\n",
    "\n",
    "df.groupby(by='Year').size().sort_values(ascending=False).head(5)\n",
    "\n",
    "\n"
   ]
  },
  {
   "cell_type": "markdown",
   "metadata": {},
   "source": [
    "Looking at the data, **2010** has the most bank closures, followed by **2009**. This may be attributed to the 2008 Wall Street Crash that had occurred. "
   ]
  },
  {
   "cell_type": "markdown",
   "metadata": {},
   "source": []
  },
  {
   "cell_type": "code",
   "execution_count": null,
   "metadata": {},
   "outputs": [],
   "source": [
    "import matplotlib.pyplot as plt\n",
    "\n",
    "# Define the package names and versions\n",
    "package_names = ['appdirs', 'argon2-cffi', 'asttokens', 'attrs', 'Automat']\n",
    "package_versions = [1.4.4, 21.1.0, 2.2.1, 23.1.0, 22.10.0]\n",
    "\n",
    "plt.\n",
    "\n",
    "# Create a horizontal bar chart\n",
    "plt.barh(package_names, package_versions)\n",
    "\n",
    "# Set the labels and title\n",
    "plt.xlabel('Version')\n",
    "plt.ylabel('Package Name')\n",
    "plt.title('Package Versions')\n",
    "\n",
    "# Display the chart\n",
    "plt.show()\n",
    "dsf\n"
   ]
  }
 ],
 "metadata": {
  "kernelspec": {
   "display_name": "Python 3 (ipykernel)",
   "language": "python",
   "name": "python3"
  },
  "language_info": {
   "codemirror_mode": {
    "name": "ipython",
    "version": 3
   },
   "file_extension": ".py",
   "mimetype": "text/x-python",
   "name": "python",
   "nbconvert_exporter": "python",
   "pygments_lexer": "ipython3",
   "version": "3.11.6"
  }
 },
 "nbformat": 4,
 "nbformat_minor": 2
}
